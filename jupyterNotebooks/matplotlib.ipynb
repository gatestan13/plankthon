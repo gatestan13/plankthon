{
 "cells": [
  {
   "cell_type": "code",
   "execution_count": 1,
   "metadata": {},
   "outputs": [],
   "source": [
    "import matplotlib.pyplot as plt\r\n",
    "import pandas as pd\r\n"
   ]
  },
  {
   "cell_type": "code",
   "execution_count": 18,
   "metadata": {},
   "outputs": [],
   "source": [
    "df = pd.read_csv('station_genus_count.csv')\r\n",
    "\r\n",
    "df.rename({\"Unnamed: 0\":\"a\"}, axis=\"columns\", inplace=True)\r\n",
    "df.drop([\"a\"], axis=1, inplace=True)\r\n",
    "df\r\n",
    "# df.drop(['Unnamed: 0'])\r\n",
    "# df\r\n",
    "df.to_csv('station_genus_count.csv', index=False)"
   ]
  },
  {
   "cell_type": "code",
   "execution_count": 37,
   "metadata": {},
   "outputs": [
    {
     "data": {
      "text/html": [
       "<div>\n",
       "<style scoped>\n",
       "    .dataframe tbody tr th:only-of-type {\n",
       "        vertical-align: middle;\n",
       "    }\n",
       "\n",
       "    .dataframe tbody tr th {\n",
       "        vertical-align: top;\n",
       "    }\n",
       "\n",
       "    .dataframe thead th {\n",
       "        text-align: right;\n",
       "    }\n",
       "</style>\n",
       "<table border=\"1\" class=\"dataframe\">\n",
       "  <thead>\n",
       "    <tr style=\"text-align: right;\">\n",
       "      <th></th>\n",
       "      <th>genus</th>\n",
       "      <th>count</th>\n",
       "    </tr>\n",
       "    <tr>\n",
       "      <th>station</th>\n",
       "      <th></th>\n",
       "      <th></th>\n",
       "    </tr>\n",
       "  </thead>\n",
       "  <tbody>\n",
       "    <tr>\n",
       "      <th>dn_20210111</th>\n",
       "      <td>Acantharia</td>\n",
       "      <td>47</td>\n",
       "    </tr>\n",
       "    <tr>\n",
       "      <th>dn_20210111</th>\n",
       "      <td>Amphibelone</td>\n",
       "      <td>6</td>\n",
       "    </tr>\n",
       "    <tr>\n",
       "      <th>dn_20210111</th>\n",
       "      <td>Amphorides</td>\n",
       "      <td>6</td>\n",
       "    </tr>\n",
       "    <tr>\n",
       "      <th>dn_20210111</th>\n",
       "      <td>Bacillariophyta</td>\n",
       "      <td>37</td>\n",
       "    </tr>\n",
       "    <tr>\n",
       "      <th>dn_20210111</th>\n",
       "      <td>Calanoida</td>\n",
       "      <td>2</td>\n",
       "    </tr>\n",
       "    <tr>\n",
       "      <th>...</th>\n",
       "      <td>...</td>\n",
       "      <td>...</td>\n",
       "    </tr>\n",
       "    <tr>\n",
       "      <th>dn_20210111</th>\n",
       "      <td>part&lt;Crustacea</td>\n",
       "      <td>61</td>\n",
       "    </tr>\n",
       "    <tr>\n",
       "      <th>dn_20210111</th>\n",
       "      <td>pennate</td>\n",
       "      <td>5</td>\n",
       "    </tr>\n",
       "    <tr>\n",
       "      <th>dn_20210111</th>\n",
       "      <td>rods</td>\n",
       "      <td>25</td>\n",
       "    </tr>\n",
       "    <tr>\n",
       "      <th>dn_20210111</th>\n",
       "      <td>round cells</td>\n",
       "      <td>263</td>\n",
       "    </tr>\n",
       "    <tr>\n",
       "      <th>dn_20210111</th>\n",
       "      <td>transparent</td>\n",
       "      <td>57</td>\n",
       "    </tr>\n",
       "  </tbody>\n",
       "</table>\n",
       "<p>65 rows × 2 columns</p>\n",
       "</div>"
      ],
      "text/plain": [
       "                       genus  count\n",
       "station                            \n",
       "dn_20210111       Acantharia     47\n",
       "dn_20210111      Amphibelone      6\n",
       "dn_20210111       Amphorides      6\n",
       "dn_20210111  Bacillariophyta     37\n",
       "dn_20210111        Calanoida      2\n",
       "...                      ...    ...\n",
       "dn_20210111   part<Crustacea     61\n",
       "dn_20210111          pennate      5\n",
       "dn_20210111             rods     25\n",
       "dn_20210111      round cells    263\n",
       "dn_20210111      transparent     57\n",
       "\n",
       "[65 rows x 2 columns]"
      ]
     },
     "execution_count": 37,
     "metadata": {},
     "output_type": "execute_result"
    }
   ],
   "source": [
    "df = pd.read_csv('station_genus_count.csv', index_col='station')\r\n",
    "station1 = df.loc['dn_20210111']\r\n",
    "station2 = df.loc['dn_20210114']\r\n",
    "station3 = df.loc['dn_20210122']\r\n",
    "station4 = df.loc['hsn_20201227']\r\n",
    "station5 = df.loc['hsn_20210120_4k']\r\n",
    "station1"
   ]
  },
  {
   "cell_type": "code",
   "execution_count": 36,
   "metadata": {},
   "outputs": [
    {
     "data": {
      "image/png": "[encoded data removed]",
      "text/plain": [
       "<Figure size 432x288 with 1 Axes>"
      ]
     },
     "metadata": {
      "needs_background": "light"
     },
     "output_type": "display_data"
    }
   ],
   "source": [
    "import numpy as np\r\n",
    "\r\n",
    "x1 = station1['genus']\r\n",
    "y1 = station1['count']\r\n",
    "x1max = x1[np.argmax(y1)]\r\n",
    "\r\n",
    "plt.plot(x1, y1)\r\n",
    "plt.xticks(rotation=90, fontsize=5)\r\n",
    "plt.show()"
   ]
  }
 ],
 "metadata": {
  "interpreter": {
   "hash": "b0c348e400054eba43af28635eab85fc2562c3bb7e2471e06010a9dc828ed27e"
  },
  "kernelspec": {
   "display_name": "Python 3.8.10 64-bit ('venv': venv)",
   "name": "python3"
  },
  "language_info": {
   "codemirror_mode": {
    "name": "ipython",
    "version": 3
   },
   "file_extension": ".py",
   "mimetype": "text/x-python",
   "name": "python",
   "nbconvert_exporter": "python",
   "pygments_lexer": "ipython3",
   "version": "3.8.10"
  },
  "orig_nbformat": 4
 },
 "nbformat": 4,
 "nbformat_minor": 2
}